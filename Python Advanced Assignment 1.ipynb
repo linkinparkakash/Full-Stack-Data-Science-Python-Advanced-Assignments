{
 "cells": [
  {
   "cell_type": "code",
   "execution_count": 1,
   "id": "0e4ac2f9-da7d-4ea1-8986-613fb22953ad",
   "metadata": {},
   "outputs": [],
   "source": [
    "# Q1. What is the purpose of Python&#39;s OOP?\n",
    "\n",
    "# Q2. Where does an inheritance search look for an attribute?\n",
    "\n",
    "# Q3. How do you distinguish between a class object and an instance object?\n",
    "\n",
    "# Q4. What makes the first argument in a class’s method function special?\n",
    "\n",
    "# Q5. What is the purpose of the __init__ method?\n",
    "\n",
    "# Q6. What is the process for creating a class instance?\n",
    "\n",
    "# Q7. What is the process for creating a class?\n",
    "\n",
    "# Q8. How would you define the superclasses of a class?\n",
    "\n",
    "\n",
    "# Ans:\n",
    "# Q1. The purpose of Python's Object-Oriented Programming (OOP) is to provide a way to structure and organize code by creating \n",
    "# reusable and modular components called classes. OOP allows for the implementation of concepts such as encapsulation, inheritance, \n",
    "# and polymorphism, which promote code reuse, modularity, and easier maintenance.\n",
    "\n",
    "# Q2. Inheritance search looks for an attribute first in the instance object itself, and if not found, it searches in the class of the \n",
    "# instance. If still not found, it continues searching in the superclasses of the class following the Method Resolution Order (MRO) \n",
    "# defined by the inheritance hierarchy.\n",
    "\n",
    "# Q3. A class object represents the class itself and provides access to its attributes and methods. An instance object is created from a \n",
    "# class and represents a specific occurrence or instantiation of that class. Instance objects inherit attributes and behaviors from the\n",
    "# class but can also have their own unique attributes and behaviors.\n",
    "\n",
    "# Q4. The first argument in a class's method function, conventionally named self, refers to the instance object calling the method. \n",
    "# It allows the method to access and manipulate the instance's attributes and perform operations specific to that instance.\n",
    "\n",
    "# Q5. The __init__ method, also known as the constructor, is a special method in Python classes. It is automatically called when a new \n",
    "# instance of the class is created. Its purpose is to initialize the instance by setting its initial state and defining any necessary\n",
    "# instance-specific attributes.\n",
    "\n",
    "# Q6. To create a class instance, you use the class name followed by parentheses. For example, if the class name is MyClass, you would \n",
    "# create an instance by writing my_instance = MyClass(). This invokes the class's __init__ method to initialize the instance and returns\n",
    "# the newly created instance object.\n",
    "\n",
    "# Q7. The process for creating a class involves defining the class using the class keyword, providing a class name, and specifying the\n",
    "# class's properties and methods within the class block. After defining the class, you can create instances of the class as described \n",
    "# in the previous answer.\n",
    "\n",
    "# Q8. The superclasses of a class are defined through inheritance. In Python, a class can inherit from one or more superclasses, \n",
    "# known as parent or base classes, by including them in parentheses after the class name in the class definition. For example, class\n",
    "# ChildClass(ParentClass1, ParentClass2): indicates that ChildClass inherits from both ParentClass1 and ParentClass2. The superclasses\n",
    "# provide their attributes and methods to the child class, allowing code reuse and promoting the concept of \"is-a\" relationship between \n",
    "# classes."
   ]
  },
  {
   "cell_type": "code",
   "execution_count": null,
   "id": "a5811ca4-c918-4a71-b427-fb3fe09de396",
   "metadata": {},
   "outputs": [],
   "source": []
  }
 ],
 "metadata": {
  "kernelspec": {
   "display_name": "Python 3 (ipykernel)",
   "language": "python",
   "name": "python3"
  },
  "language_info": {
   "codemirror_mode": {
    "name": "ipython",
    "version": 3
   },
   "file_extension": ".py",
   "mimetype": "text/x-python",
   "name": "python",
   "nbconvert_exporter": "python",
   "pygments_lexer": "ipython3",
   "version": "3.10.6"
  }
 },
 "nbformat": 4,
 "nbformat_minor": 5
}
