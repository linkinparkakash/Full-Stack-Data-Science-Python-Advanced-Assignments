{
 "cells": [
  {
   "cell_type": "code",
   "execution_count": 1,
   "id": "7736de4b-c296-4cc8-8c20-1fae20ebd295",
   "metadata": {},
   "outputs": [],
   "source": [
    "# 1. What is the concept of an abstract superclass?\n",
    "\n",
    "# 2. What happens when a class statement&#39;s top level contains a basic assignment statement?\n",
    "\n",
    "# 3. Why does a class need to manually call a superclass&#39;s __init__ method?\n",
    "\n",
    "# 4. How can you augment, instead of completely replacing, an inherited method?\n",
    "\n",
    "# 5. How is the local scope of a class different from that of a function?\n",
    "\n",
    "\n",
    "# Ans:\n",
    "# 1. An abstract superclass is a class that is designed to be inherited by other classes but is not intended to be instantiated itself. \n",
    "# It serves as a blueprint or template for its subclasses, providing common attributes and methods that can be inherited and overridden. \n",
    "# Abstract superclasses often define abstract methods, which are meant to be implemented by the subclasses.\n",
    "\n",
    "# 2. When a class statement's top level contains a basic assignment statement, it creates a class attribute that is shared by all \n",
    "# instances of the class. This attribute can be accessed and modified by both the class itself and its instances.\n",
    "\n",
    "# 3. A class needs to manually call a superclass's __init__ method in order to initialize the attributes inherited from the superclass. \n",
    "# By calling the superclass's __init__ method, the subclass ensures that the inherited attributes are properly initialized before adding\n",
    "# or modifying its own attributes.\n",
    "\n",
    "# 4. To augment an inherited method without completely replacing it, the subclass can override the method by defining a method with the '\n",
    "# same name in the subclass. Within the subclass's method, the super() function can be used to invoke the superclass's version of the \n",
    "# method. This allows the subclass to extend or modify the behavior of the inherited method while still utilizing the superclass's\n",
    "# implementation.\n",
    "\n",
    "# 5. The local scope of a class refers to the namespace within the class definition. It includes class attributes and methods, \n",
    "# which can be accessed using the self parameter or the class name. On the other hand, the local scope of a function refers to the\n",
    "# namespace within the function definition and only exists during the execution of the function. Variables defined within a function\n",
    "# are local to that function and cannot be accessed outside of it, unlike class attributes that can be accessed by the class itself \n",
    "# and its instances."
   ]
  },
  {
   "cell_type": "code",
   "execution_count": null,
   "id": "61656755-2a72-427b-beaf-7df9fdd6cdc8",
   "metadata": {},
   "outputs": [],
   "source": []
  }
 ],
 "metadata": {
  "kernelspec": {
   "display_name": "Python 3 (ipykernel)",
   "language": "python",
   "name": "python3"
  },
  "language_info": {
   "codemirror_mode": {
    "name": "ipython",
    "version": 3
   },
   "file_extension": ".py",
   "mimetype": "text/x-python",
   "name": "python",
   "nbconvert_exporter": "python",
   "pygments_lexer": "ipython3",
   "version": "3.10.6"
  }
 },
 "nbformat": 4,
 "nbformat_minor": 5
}
